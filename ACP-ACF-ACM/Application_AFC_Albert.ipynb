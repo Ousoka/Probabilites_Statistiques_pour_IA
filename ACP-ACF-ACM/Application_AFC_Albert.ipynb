{
 "cells": [
  {
   "cell_type": "markdown",
   "metadata": {},
   "source": [
    "![logo_uam.png](attachment:logo_uam.png)"
   ]
  },
  {
   "cell_type": "markdown",
   "metadata": {},
   "source": [
    "###                                    MASTER INGENIERIE DES SYSTEMES D'INFORMATION ET DES DONNEES\n",
    "\n",
    "###                                        PROBABILITE ET STATISTIQUES POUR INTELLIGENCE ARTIFIELLE\n"
   ]
  },
  {
   "cell_type": "markdown",
   "metadata": {},
   "source": [
    "#### Analyse Factorielle des Correspondances (AFC)"
   ]
  },
  {
   "cell_type": "markdown",
   "metadata": {},
   "source": [
    "L’analyse factorielle des correspondances (AFC) – ou analyse des correspondances pour simplifier - propose une vision synthétique des informations « saillantes ou patterns » portées par un tableau de contingence. Elle permet de débroussailler rapidement les grands tableaux. Son pouvoir de séduction repose en grande partie sur les représentations graphiques qu’elle propose. Elles nous permettent de situer facilement les similarités (dissimilarités) entre les profils et les attractions (répulsions) entre les modalités. Elle a été mise au point à partir des années 1960 par Jean-Paul Benzécri. Les facteurs – les variables latentes – qui en sont issus sont des combinaisons linéaires des points modalités (lignes ou colonnes) exprimés par des profils (lignes ou colonnes)."
   ]
  },
  {
   "cell_type": "markdown",
   "metadata": {},
   "source": [
    "##### Conditions d'application"
   ]
  },
  {
   "cell_type": "markdown",
   "metadata": {},
   "source": [
    "l’AFC s’applique en priorité sur les tableaux de contingence (tableau de comptage) mais aussi sur tout autre tableau de valeurs positives pour laquelle les notions de marges (sommes en ligne et colonne) et profils (ratios en ligne et colonne) ont un sens"
   ]
  },
  {
   "cell_type": "markdown",
   "metadata": {},
   "source": [
    "**Exemple 1**"
   ]
  },
  {
   "cell_type": "markdown",
   "metadata": {},
   "source": [
    "On a demandé à un ensemble d'électeurs leur département et leur vote à l’élection présidentielle. Supposons qu'il y a I candidats et J départements \n",
    "\n",
    "Ces données peuvent être rangées dans un tableau de contingence de la forme: ![image.png](attachment:image.png) \n",
    "\n",
    "![image-3.png](attachment:image-3.png):représente le nombre de personnes ayant voté pour le candidat i dans le département j.\n",
    "\n",
    " "
   ]
  },
  {
   "cell_type": "code",
   "execution_count": 24,
   "metadata": {},
   "outputs": [],
   "source": [
    "import pandas as pd\n",
    "import matplotlib.pyplot as plt\n",
    "import numpy as np\n"
   ]
  },
  {
   "cell_type": "markdown",
   "metadata": {},
   "source": [
    "**Exercice d'application : On s’intéresse à la relation entre la couleur des yeux et la couleur des cheveux de 592 sujets féminins. Les données sont résumées dans le tableau ci-aprés**\n",
    "**Les données s’inspirent de l’article de Snee (1974)**"
   ]
  },
  {
   "cell_type": "code",
   "execution_count": 25,
   "metadata": {},
   "outputs": [],
   "source": [
    "X=np.array([[119,26,7],\n",
    "           [54,14,10],\n",
    "           [29,14,16],\n",
    "           [84,17,94]])"
   ]
  },
  {
   "cell_type": "code",
   "execution_count": 26,
   "metadata": {},
   "outputs": [
    {
     "data": {
      "text/html": [
       "<div>\n",
       "<style scoped>\n",
       "    .dataframe tbody tr th:only-of-type {\n",
       "        vertical-align: middle;\n",
       "    }\n",
       "\n",
       "    .dataframe tbody tr th {\n",
       "        vertical-align: top;\n",
       "    }\n",
       "\n",
       "    .dataframe thead th {\n",
       "        text-align: right;\n",
       "    }\n",
       "</style>\n",
       "<table border=\"1\" class=\"dataframe\">\n",
       "  <thead>\n",
       "    <tr style=\"text-align: right;\">\n",
       "      <th></th>\n",
       "      <th>Chatains</th>\n",
       "      <th>Roux</th>\n",
       "      <th>Blonds</th>\n",
       "    </tr>\n",
       "  </thead>\n",
       "  <tbody>\n",
       "    <tr>\n",
       "      <th>Marrons</th>\n",
       "      <td>119</td>\n",
       "      <td>26</td>\n",
       "      <td>7</td>\n",
       "    </tr>\n",
       "    <tr>\n",
       "      <th>Noisettes</th>\n",
       "      <td>54</td>\n",
       "      <td>14</td>\n",
       "      <td>10</td>\n",
       "    </tr>\n",
       "    <tr>\n",
       "      <th>Verts</th>\n",
       "      <td>29</td>\n",
       "      <td>14</td>\n",
       "      <td>16</td>\n",
       "    </tr>\n",
       "    <tr>\n",
       "      <th>Bleus</th>\n",
       "      <td>84</td>\n",
       "      <td>17</td>\n",
       "      <td>94</td>\n",
       "    </tr>\n",
       "  </tbody>\n",
       "</table>\n",
       "</div>"
      ],
      "text/plain": [
       "           Chatains   Roux  Blonds\n",
       "Marrons         119     26       7\n",
       "Noisettes        54     14      10\n",
       "Verts            29     14      16\n",
       "Bleus            84     17      94"
      ]
     },
     "execution_count": 26,
     "metadata": {},
     "output_type": "execute_result"
    }
   ],
   "source": [
    "exdapp=pd.DataFrame(X, index=['Marrons', 'Noisettes', 'Verts', 'Bleus' ], \n",
    "                   columns=['Chatains',' Roux', 'Blonds'])\n",
    "exdapp"
   ]
  },
  {
   "cell_type": "code",
   "execution_count": 39,
   "metadata": {},
   "outputs": [],
   "source": [
    "\n",
    "afc = pd.read_excel(\"../TD_ACP/Data_Methodes_Factorielles_python.xlsx\",sheet_name=\"AFC_ETUDES\",index_col=0)"
   ]
  },
  {
   "cell_type": "code",
   "execution_count": 40,
   "metadata": {},
   "outputs": [
    {
     "data": {
      "text/html": [
       "<div>\n",
       "<style scoped>\n",
       "    .dataframe tbody tr th:only-of-type {\n",
       "        vertical-align: middle;\n",
       "    }\n",
       "\n",
       "    .dataframe tbody tr th {\n",
       "        vertical-align: top;\n",
       "    }\n",
       "\n",
       "    .dataframe thead th {\n",
       "        text-align: right;\n",
       "    }\n",
       "</style>\n",
       "<table border=\"1\" class=\"dataframe\">\n",
       "  <thead>\n",
       "    <tr style=\"text-align: right;\">\n",
       "      <th></th>\n",
       "      <th>Droit</th>\n",
       "      <th>Sciences</th>\n",
       "      <th>Medecine</th>\n",
       "      <th>IUT</th>\n",
       "    </tr>\n",
       "    <tr>\n",
       "      <th>CSP_vs_Filiere</th>\n",
       "      <th></th>\n",
       "      <th></th>\n",
       "      <th></th>\n",
       "      <th></th>\n",
       "    </tr>\n",
       "  </thead>\n",
       "  <tbody>\n",
       "    <tr>\n",
       "      <th>ExpAgri</th>\n",
       "      <td>80</td>\n",
       "      <td>99</td>\n",
       "      <td>65</td>\n",
       "      <td>58</td>\n",
       "    </tr>\n",
       "    <tr>\n",
       "      <th>Patron</th>\n",
       "      <td>168</td>\n",
       "      <td>137</td>\n",
       "      <td>208</td>\n",
       "      <td>62</td>\n",
       "    </tr>\n",
       "    <tr>\n",
       "      <th>CadreSup</th>\n",
       "      <td>470</td>\n",
       "      <td>400</td>\n",
       "      <td>876</td>\n",
       "      <td>79</td>\n",
       "    </tr>\n",
       "    <tr>\n",
       "      <th>Employe</th>\n",
       "      <td>145</td>\n",
       "      <td>133</td>\n",
       "      <td>135</td>\n",
       "      <td>54</td>\n",
       "    </tr>\n",
       "    <tr>\n",
       "      <th>Ouvrier</th>\n",
       "      <td>166</td>\n",
       "      <td>193</td>\n",
       "      <td>127</td>\n",
       "      <td>129</td>\n",
       "    </tr>\n",
       "  </tbody>\n",
       "</table>\n",
       "</div>"
      ],
      "text/plain": [
       "                Droit  Sciences  Medecine  IUT\n",
       "CSP_vs_Filiere                                \n",
       "ExpAgri            80        99        65   58\n",
       "Patron            168       137       208   62\n",
       "CadreSup          470       400       876   79\n",
       "Employe           145       133       135   54\n",
       "Ouvrier           166       193       127  129"
      ]
     },
     "execution_count": 40,
     "metadata": {},
     "output_type": "execute_result"
    }
   ],
   "source": [
    "afc"
   ]
  },
  {
   "cell_type": "markdown",
   "metadata": {},
   "source": [
    "### Test de khi2\n",
    "Avant de démarrer une afc, il faut réaliser le test de Chi2 d'indépendance afin de s'assuer de la liaison entre les variavles."
   ]
  },
  {
   "cell_type": "code",
   "execution_count": 80,
   "metadata": {},
   "outputs": [],
   "source": [
    "from scipy.stats import chi2_contingency as chi2_contingency\n",
    "\n",
    "khi2, pval , ddl , contingent_theorique = chi2_contingency(afc)"
   ]
  },
  {
   "cell_type": "code",
   "execution_count": 83,
   "metadata": {},
   "outputs": [
    {
     "name": "stdout",
     "output_type": "stream",
     "text": [
      "Khi2 =  320.2658717522244\n",
      "pvalue =  2.582612649831932e-61\n",
      "degré de liberté =  12\n"
     ]
    }
   ],
   "source": [
    "print(\"Khi2 = \", khi2)\n",
    "print(\"pvalue = \", pval)\n",
    "print(\"degré de liberté = \", ddl)"
   ]
  },
  {
   "cell_type": "markdown",
   "metadata": {},
   "source": [
    "### I.1. Fréquences et Fréquences relatives"
   ]
  },
  {
   "cell_type": "code",
   "execution_count": 41,
   "metadata": {},
   "outputs": [
    {
     "data": {
      "text/html": [
       "<div>\n",
       "<style scoped>\n",
       "    .dataframe tbody tr th:only-of-type {\n",
       "        vertical-align: middle;\n",
       "    }\n",
       "\n",
       "    .dataframe tbody tr th {\n",
       "        vertical-align: top;\n",
       "    }\n",
       "\n",
       "    .dataframe thead th {\n",
       "        text-align: right;\n",
       "    }\n",
       "</style>\n",
       "<table border=\"1\" class=\"dataframe\">\n",
       "  <thead>\n",
       "    <tr style=\"text-align: right;\">\n",
       "      <th></th>\n",
       "      <th>Droit_freq</th>\n",
       "      <th>Sciences_freq</th>\n",
       "      <th>Medecine_freq</th>\n",
       "      <th>IUT_freq</th>\n",
       "    </tr>\n",
       "    <tr>\n",
       "      <th>CSP_vs_Filiere</th>\n",
       "      <th></th>\n",
       "      <th></th>\n",
       "      <th></th>\n",
       "      <th></th>\n",
       "    </tr>\n",
       "  </thead>\n",
       "  <tbody>\n",
       "    <tr>\n",
       "      <th>ExpAgri</th>\n",
       "      <td>0.021142</td>\n",
       "      <td>0.026163</td>\n",
       "      <td>0.017178</td>\n",
       "      <td>0.015328</td>\n",
       "    </tr>\n",
       "    <tr>\n",
       "      <th>Patron</th>\n",
       "      <td>0.044397</td>\n",
       "      <td>0.036205</td>\n",
       "      <td>0.054968</td>\n",
       "      <td>0.016385</td>\n",
       "    </tr>\n",
       "    <tr>\n",
       "      <th>CadreSup</th>\n",
       "      <td>0.124207</td>\n",
       "      <td>0.105708</td>\n",
       "      <td>0.231501</td>\n",
       "      <td>0.020877</td>\n",
       "    </tr>\n",
       "    <tr>\n",
       "      <th>Employe</th>\n",
       "      <td>0.038319</td>\n",
       "      <td>0.035148</td>\n",
       "      <td>0.035677</td>\n",
       "      <td>0.014271</td>\n",
       "    </tr>\n",
       "    <tr>\n",
       "      <th>Ouvrier</th>\n",
       "      <td>0.043869</td>\n",
       "      <td>0.051004</td>\n",
       "      <td>0.033562</td>\n",
       "      <td>0.034091</td>\n",
       "    </tr>\n",
       "  </tbody>\n",
       "</table>\n",
       "</div>"
      ],
      "text/plain": [
       "                Droit_freq  Sciences_freq  Medecine_freq  IUT_freq\n",
       "CSP_vs_Filiere                                                    \n",
       "ExpAgri           0.021142       0.026163       0.017178  0.015328\n",
       "Patron            0.044397       0.036205       0.054968  0.016385\n",
       "CadreSup          0.124207       0.105708       0.231501  0.020877\n",
       "Employe           0.038319       0.035148       0.035677  0.014271\n",
       "Ouvrier           0.043869       0.051004       0.033562  0.034091"
      ]
     },
     "execution_count": 41,
     "metadata": {},
     "output_type": "execute_result"
    }
   ],
   "source": [
    "\n",
    "F = pd.DataFrame()\n",
    "\n",
    "# Calculer les fréquences relatives\n",
    "total = afc['Droit'].sum() + afc['Sciences'].sum() + afc['Medecine'].sum() + afc['IUT'].sum()\n",
    "F['Droit_freq'] = afc['Droit'] / total \n",
    "F['Sciences_freq'] = afc['Sciences'] / total\n",
    "F['Medecine_freq'] = afc['Medecine'] / total\n",
    "F['IUT_freq'] = afc['IUT'] / total\n",
    "\n",
    "F"
   ]
  },
  {
   "cell_type": "code",
   "execution_count": null,
   "metadata": {},
   "outputs": [],
   "source": [
    "0.021142 / "
   ]
  },
  {
   "cell_type": "markdown",
   "metadata": {},
   "source": [
    "### II. Profils ligne et colonnes"
   ]
  },
  {
   "cell_type": "code",
   "execution_count": 96,
   "metadata": {},
   "outputs": [
    {
     "data": {
      "text/plain": [
       "array([[0.26490066, 0.32781457, 0.21523179, 0.19205298],\n",
       "       [0.29217391, 0.23826087, 0.36173913, 0.10782609],\n",
       "       [0.25753425, 0.21917808, 0.48      , 0.04328767],\n",
       "       [0.31049251, 0.28479657, 0.28907923, 0.11563169],\n",
       "       [0.2699187 , 0.31382114, 0.20650407, 0.2097561 ]])"
      ]
     },
     "execution_count": 96,
     "metadata": {},
     "output_type": "execute_result"
    }
   ],
   "source": [
    "profil_ligne = np.apply_along_axis(arr=F.values, axis=1, func1d= lambda x:x/np.sum(x))\n",
    "profil_ligne"
   ]
  },
  {
   "cell_type": "code",
   "execution_count": 100,
   "metadata": {},
   "outputs": [
    {
     "data": {
      "text/html": [
       "<div>\n",
       "<style scoped>\n",
       "    .dataframe tbody tr th:only-of-type {\n",
       "        vertical-align: middle;\n",
       "    }\n",
       "\n",
       "    .dataframe tbody tr th {\n",
       "        vertical-align: top;\n",
       "    }\n",
       "\n",
       "    .dataframe thead th {\n",
       "        text-align: right;\n",
       "    }\n",
       "</style>\n",
       "<table border=\"1\" class=\"dataframe\">\n",
       "  <thead>\n",
       "    <tr style=\"text-align: right;\">\n",
       "      <th></th>\n",
       "      <th>Droit_freq</th>\n",
       "      <th>Sciences_freq</th>\n",
       "      <th>Medecine_freq</th>\n",
       "      <th>IUT_freq</th>\n",
       "    </tr>\n",
       "    <tr>\n",
       "      <th>CSP_vs_Filiere</th>\n",
       "      <th></th>\n",
       "      <th></th>\n",
       "      <th></th>\n",
       "      <th></th>\n",
       "    </tr>\n",
       "  </thead>\n",
       "  <tbody>\n",
       "    <tr>\n",
       "      <th>ExpAgri</th>\n",
       "      <td>0.264901</td>\n",
       "      <td>0.327815</td>\n",
       "      <td>0.215232</td>\n",
       "      <td>0.192053</td>\n",
       "    </tr>\n",
       "    <tr>\n",
       "      <th>Patron</th>\n",
       "      <td>0.292174</td>\n",
       "      <td>0.238261</td>\n",
       "      <td>0.361739</td>\n",
       "      <td>0.107826</td>\n",
       "    </tr>\n",
       "    <tr>\n",
       "      <th>CadreSup</th>\n",
       "      <td>0.257534</td>\n",
       "      <td>0.219178</td>\n",
       "      <td>0.480000</td>\n",
       "      <td>0.043288</td>\n",
       "    </tr>\n",
       "    <tr>\n",
       "      <th>Employe</th>\n",
       "      <td>0.310493</td>\n",
       "      <td>0.284797</td>\n",
       "      <td>0.289079</td>\n",
       "      <td>0.115632</td>\n",
       "    </tr>\n",
       "    <tr>\n",
       "      <th>Ouvrier</th>\n",
       "      <td>0.269919</td>\n",
       "      <td>0.313821</td>\n",
       "      <td>0.206504</td>\n",
       "      <td>0.209756</td>\n",
       "    </tr>\n",
       "  </tbody>\n",
       "</table>\n",
       "</div>"
      ],
      "text/plain": [
       "                Droit_freq  Sciences_freq  Medecine_freq  IUT_freq\n",
       "CSP_vs_Filiere                                                    \n",
       "ExpAgri           0.264901       0.327815       0.215232  0.192053\n",
       "Patron            0.292174       0.238261       0.361739  0.107826\n",
       "CadreSup          0.257534       0.219178       0.480000  0.043288\n",
       "Employe           0.310493       0.284797       0.289079  0.115632\n",
       "Ouvrier           0.269919       0.313821       0.206504  0.209756"
      ]
     },
     "execution_count": 100,
     "metadata": {},
     "output_type": "execute_result"
    }
   ],
   "source": [
    "# Profil ligne : diviser chaque ligne par son total\n",
    "row_totals = F.sum(axis=1)\n",
    "row_profil = F.div(row_totals, axis=0)\n",
    "\n",
    "# Profil colonne : diviser chaque colonne par son total\n",
    "col_totals = F.sum(axis=0)\n",
    "col_profil = F.div(col_totals, axis=1)\n",
    "\n",
    "row_profil"
   ]
  },
  {
   "cell_type": "code",
   "execution_count": 101,
   "metadata": {},
   "outputs": [
    {
     "data": {
      "text/html": [
       "<div>\n",
       "<style scoped>\n",
       "    .dataframe tbody tr th:only-of-type {\n",
       "        vertical-align: middle;\n",
       "    }\n",
       "\n",
       "    .dataframe tbody tr th {\n",
       "        vertical-align: top;\n",
       "    }\n",
       "\n",
       "    .dataframe thead th {\n",
       "        text-align: right;\n",
       "    }\n",
       "</style>\n",
       "<table border=\"1\" class=\"dataframe\">\n",
       "  <thead>\n",
       "    <tr style=\"text-align: right;\">\n",
       "      <th></th>\n",
       "      <th>Droit_freq</th>\n",
       "      <th>Sciences_freq</th>\n",
       "      <th>Medecine_freq</th>\n",
       "      <th>IUT_freq</th>\n",
       "    </tr>\n",
       "    <tr>\n",
       "      <th>CSP_vs_Filiere</th>\n",
       "      <th></th>\n",
       "      <th></th>\n",
       "      <th></th>\n",
       "      <th></th>\n",
       "    </tr>\n",
       "  </thead>\n",
       "  <tbody>\n",
       "    <tr>\n",
       "      <th>ExpAgri</th>\n",
       "      <td>0.077745</td>\n",
       "      <td>0.102911</td>\n",
       "      <td>0.046067</td>\n",
       "      <td>0.151832</td>\n",
       "    </tr>\n",
       "    <tr>\n",
       "      <th>Patron</th>\n",
       "      <td>0.163265</td>\n",
       "      <td>0.142412</td>\n",
       "      <td>0.147413</td>\n",
       "      <td>0.162304</td>\n",
       "    </tr>\n",
       "    <tr>\n",
       "      <th>CadreSup</th>\n",
       "      <td>0.456754</td>\n",
       "      <td>0.415800</td>\n",
       "      <td>0.620836</td>\n",
       "      <td>0.206806</td>\n",
       "    </tr>\n",
       "    <tr>\n",
       "      <th>Employe</th>\n",
       "      <td>0.140914</td>\n",
       "      <td>0.138254</td>\n",
       "      <td>0.095677</td>\n",
       "      <td>0.141361</td>\n",
       "    </tr>\n",
       "    <tr>\n",
       "      <th>Ouvrier</th>\n",
       "      <td>0.161322</td>\n",
       "      <td>0.200624</td>\n",
       "      <td>0.090007</td>\n",
       "      <td>0.337696</td>\n",
       "    </tr>\n",
       "  </tbody>\n",
       "</table>\n",
       "</div>"
      ],
      "text/plain": [
       "                Droit_freq  Sciences_freq  Medecine_freq  IUT_freq\n",
       "CSP_vs_Filiere                                                    \n",
       "ExpAgri           0.077745       0.102911       0.046067  0.151832\n",
       "Patron            0.163265       0.142412       0.147413  0.162304\n",
       "CadreSup          0.456754       0.415800       0.620836  0.206806\n",
       "Employe           0.140914       0.138254       0.095677  0.141361\n",
       "Ouvrier           0.161322       0.200624       0.090007  0.337696"
      ]
     },
     "execution_count": 101,
     "metadata": {},
     "output_type": "execute_result"
    }
   ],
   "source": [
    "col_profil"
   ]
  },
  {
   "cell_type": "markdown",
   "metadata": {},
   "source": [
    "Calcul des métrics ligne et colonnes"
   ]
  },
  {
   "cell_type": "code",
   "execution_count": 109,
   "metadata": {},
   "outputs": [
    {
     "data": {
      "text/plain": [
       "array([[0.07980973, 0.        , 0.        , 0.        , 0.        ],\n",
       "       [0.        , 0.1519556 , 0.        , 0.        , 0.        ],\n",
       "       [0.        , 0.        , 0.48229387, 0.        , 0.        ],\n",
       "       [0.        , 0.        , 0.        , 0.12341438, 0.        ],\n",
       "       [0.        , 0.        , 0.        , 0.        , 0.16252643]])"
      ]
     },
     "execution_count": 109,
     "metadata": {},
     "output_type": "execute_result"
    }
   ],
   "source": [
    "Dn = np.diag(row_totals)\n",
    "Dp = np.diag(col_totals)\n",
    "Dn"
   ]
  },
  {
   "cell_type": "code",
   "execution_count": 110,
   "metadata": {},
   "outputs": [
    {
     "data": {
      "text/plain": [
       "array([[0.26490066, 0.32781457, 0.21523179, 0.19205298],\n",
       "       [0.29217391, 0.23826087, 0.36173913, 0.10782609],\n",
       "       [0.25753425, 0.21917808, 0.48      , 0.04328767],\n",
       "       [0.31049251, 0.28479657, 0.28907923, 0.11563169],\n",
       "       [0.2699187 , 0.31382114, 0.20650407, 0.2097561 ]])"
      ]
     },
     "execution_count": 110,
     "metadata": {},
     "output_type": "execute_result"
    }
   ],
   "source": [
    "np.dot(np.linalg.inv(Dn), F)"
   ]
  },
  {
   "cell_type": "code",
   "execution_count": 111,
   "metadata": {},
   "outputs": [
    {
     "data": {
      "text/html": [
       "<div>\n",
       "<style scoped>\n",
       "    .dataframe tbody tr th:only-of-type {\n",
       "        vertical-align: middle;\n",
       "    }\n",
       "\n",
       "    .dataframe tbody tr th {\n",
       "        vertical-align: top;\n",
       "    }\n",
       "\n",
       "    .dataframe thead th {\n",
       "        text-align: right;\n",
       "    }\n",
       "</style>\n",
       "<table border=\"1\" class=\"dataframe\">\n",
       "  <thead>\n",
       "    <tr style=\"text-align: right;\">\n",
       "      <th></th>\n",
       "      <th>Droit_freq</th>\n",
       "      <th>Sciences_freq</th>\n",
       "      <th>Medecine_freq</th>\n",
       "      <th>IUT_freq</th>\n",
       "    </tr>\n",
       "  </thead>\n",
       "  <tbody>\n",
       "    <tr>\n",
       "      <th>0</th>\n",
       "      <td>0.264901</td>\n",
       "      <td>0.327815</td>\n",
       "      <td>0.215232</td>\n",
       "      <td>0.192053</td>\n",
       "    </tr>\n",
       "    <tr>\n",
       "      <th>1</th>\n",
       "      <td>0.292174</td>\n",
       "      <td>0.238261</td>\n",
       "      <td>0.361739</td>\n",
       "      <td>0.107826</td>\n",
       "    </tr>\n",
       "    <tr>\n",
       "      <th>2</th>\n",
       "      <td>0.257534</td>\n",
       "      <td>0.219178</td>\n",
       "      <td>0.480000</td>\n",
       "      <td>0.043288</td>\n",
       "    </tr>\n",
       "    <tr>\n",
       "      <th>3</th>\n",
       "      <td>0.310493</td>\n",
       "      <td>0.284797</td>\n",
       "      <td>0.289079</td>\n",
       "      <td>0.115632</td>\n",
       "    </tr>\n",
       "    <tr>\n",
       "      <th>4</th>\n",
       "      <td>0.269919</td>\n",
       "      <td>0.313821</td>\n",
       "      <td>0.206504</td>\n",
       "      <td>0.209756</td>\n",
       "    </tr>\n",
       "  </tbody>\n",
       "</table>\n",
       "</div>"
      ],
      "text/plain": [
       "   Droit_freq  Sciences_freq  Medecine_freq  IUT_freq\n",
       "0    0.264901       0.327815       0.215232  0.192053\n",
       "1    0.292174       0.238261       0.361739  0.107826\n",
       "2    0.257534       0.219178       0.480000  0.043288\n",
       "3    0.310493       0.284797       0.289079  0.115632\n",
       "4    0.269919       0.313821       0.206504  0.209756"
      ]
     },
     "execution_count": 111,
     "metadata": {},
     "output_type": "execute_result"
    }
   ],
   "source": [
    "np.linalg.inv(Dn)@F"
   ]
  },
  {
   "cell_type": "code",
   "execution_count": 112,
   "metadata": {},
   "outputs": [
    {
     "data": {
      "text/html": [
       "<div>\n",
       "<style scoped>\n",
       "    .dataframe tbody tr th:only-of-type {\n",
       "        vertical-align: middle;\n",
       "    }\n",
       "\n",
       "    .dataframe tbody tr th {\n",
       "        vertical-align: top;\n",
       "    }\n",
       "\n",
       "    .dataframe thead th {\n",
       "        text-align: right;\n",
       "    }\n",
       "</style>\n",
       "<table border=\"1\" class=\"dataframe\">\n",
       "  <thead>\n",
       "    <tr style=\"text-align: right;\">\n",
       "      <th>CSP_vs_Filiere</th>\n",
       "      <th>ExpAgri</th>\n",
       "      <th>Patron</th>\n",
       "      <th>CadreSup</th>\n",
       "      <th>Employe</th>\n",
       "      <th>Ouvrier</th>\n",
       "    </tr>\n",
       "  </thead>\n",
       "  <tbody>\n",
       "    <tr>\n",
       "      <th>0</th>\n",
       "      <td>0.077745</td>\n",
       "      <td>0.163265</td>\n",
       "      <td>0.456754</td>\n",
       "      <td>0.140914</td>\n",
       "      <td>0.161322</td>\n",
       "    </tr>\n",
       "    <tr>\n",
       "      <th>1</th>\n",
       "      <td>0.102911</td>\n",
       "      <td>0.142412</td>\n",
       "      <td>0.415800</td>\n",
       "      <td>0.138254</td>\n",
       "      <td>0.200624</td>\n",
       "    </tr>\n",
       "    <tr>\n",
       "      <th>2</th>\n",
       "      <td>0.046067</td>\n",
       "      <td>0.147413</td>\n",
       "      <td>0.620836</td>\n",
       "      <td>0.095677</td>\n",
       "      <td>0.090007</td>\n",
       "    </tr>\n",
       "    <tr>\n",
       "      <th>3</th>\n",
       "      <td>0.151832</td>\n",
       "      <td>0.162304</td>\n",
       "      <td>0.206806</td>\n",
       "      <td>0.141361</td>\n",
       "      <td>0.337696</td>\n",
       "    </tr>\n",
       "  </tbody>\n",
       "</table>\n",
       "</div>"
      ],
      "text/plain": [
       "CSP_vs_Filiere   ExpAgri    Patron  CadreSup   Employe   Ouvrier\n",
       "0               0.077745  0.163265  0.456754  0.140914  0.161322\n",
       "1               0.102911  0.142412  0.415800  0.138254  0.200624\n",
       "2               0.046067  0.147413  0.620836  0.095677  0.090007\n",
       "3               0.151832  0.162304  0.206806  0.141361  0.337696"
      ]
     },
     "execution_count": 112,
     "metadata": {},
     "output_type": "execute_result"
    }
   ],
   "source": [
    "np.linalg.inv(Dp)@F.T"
   ]
  },
  {
   "cell_type": "markdown",
   "metadata": {},
   "source": [
    "### III. Profils Moyen ligne et colonnes"
   ]
  },
  {
   "cell_type": "code",
   "execution_count": 104,
   "metadata": {},
   "outputs": [
    {
     "data": {
      "text/plain": [
       "CSP_vs_Filiere\n",
       "ExpAgri     0.079810\n",
       "Patron      0.151956\n",
       "CadreSup    0.482294\n",
       "Employe     0.123414\n",
       "Ouvrier     0.162526\n",
       "dtype: float64"
      ]
     },
     "execution_count": 104,
     "metadata": {},
     "output_type": "execute_result"
    }
   ],
   "source": [
    "row_totals"
   ]
  },
  {
   "cell_type": "code",
   "execution_count": 107,
   "metadata": {},
   "outputs": [
    {
     "data": {
      "text/plain": [
       "Droit_freq       0.271934\n",
       "Sciences_freq    0.254228\n",
       "Medecine_freq    0.372886\n",
       "IUT_freq         0.100951\n",
       "dtype: float64"
      ]
     },
     "execution_count": 107,
     "metadata": {},
     "output_type": "execute_result"
    }
   ],
   "source": [
    "col_totals"
   ]
  },
  {
   "cell_type": "markdown",
   "metadata": {},
   "source": [
    "#### Calcul de distances"
   ]
  },
  {
   "cell_type": "code",
   "execution_count": 150,
   "metadata": {},
   "outputs": [
    {
     "data": {
      "text/html": [
       "<div>\n",
       "<style scoped>\n",
       "    .dataframe tbody tr th:only-of-type {\n",
       "        vertical-align: middle;\n",
       "    }\n",
       "\n",
       "    .dataframe tbody tr th {\n",
       "        vertical-align: top;\n",
       "    }\n",
       "\n",
       "    .dataframe thead th {\n",
       "        text-align: right;\n",
       "    }\n",
       "</style>\n",
       "<table border=\"1\" class=\"dataframe\">\n",
       "  <thead>\n",
       "    <tr style=\"text-align: right;\">\n",
       "      <th></th>\n",
       "      <th>Ligne 1</th>\n",
       "      <th>Ligne 2</th>\n",
       "      <th>Distance Euclidienne^2</th>\n",
       "      <th>Distance Khi^2</th>\n",
       "    </tr>\n",
       "  </thead>\n",
       "  <tbody>\n",
       "    <tr>\n",
       "      <th>0</th>\n",
       "      <td>0</td>\n",
       "      <td>1</td>\n",
       "      <td>0.325128</td>\n",
       "      <td>0.977542</td>\n",
       "    </tr>\n",
       "    <tr>\n",
       "      <th>1</th>\n",
       "      <td>0</td>\n",
       "      <td>2</td>\n",
       "      <td>9.877451</td>\n",
       "      <td>29.427852</td>\n",
       "    </tr>\n",
       "    <tr>\n",
       "      <th>2</th>\n",
       "      <td>0</td>\n",
       "      <td>3</td>\n",
       "      <td>0.112901</td>\n",
       "      <td>0.366027</td>\n",
       "    </tr>\n",
       "    <tr>\n",
       "      <th>3</th>\n",
       "      <td>0</td>\n",
       "      <td>4</td>\n",
       "      <td>0.275394</td>\n",
       "      <td>1.339827</td>\n",
       "    </tr>\n",
       "    <tr>\n",
       "      <th>4</th>\n",
       "      <td>1</td>\n",
       "      <td>2</td>\n",
       "      <td>1.835572</td>\n",
       "      <td>5.465418</td>\n",
       "    </tr>\n",
       "    <tr>\n",
       "      <th>5</th>\n",
       "      <td>1</td>\n",
       "      <td>3</td>\n",
       "      <td>0.017960</td>\n",
       "      <td>0.051217</td>\n",
       "    </tr>\n",
       "    <tr>\n",
       "      <th>6</th>\n",
       "      <td>1</td>\n",
       "      <td>4</td>\n",
       "      <td>0.042919</td>\n",
       "      <td>0.225065</td>\n",
       "    </tr>\n",
       "    <tr>\n",
       "      <th>7</th>\n",
       "      <td>2</td>\n",
       "      <td>3</td>\n",
       "      <td>0.218163</td>\n",
       "      <td>0.644787</td>\n",
       "    </tr>\n",
       "    <tr>\n",
       "      <th>8</th>\n",
       "      <td>2</td>\n",
       "      <td>4</td>\n",
       "      <td>0.209800</td>\n",
       "      <td>0.611789</td>\n",
       "    </tr>\n",
       "    <tr>\n",
       "      <th>9</th>\n",
       "      <td>3</td>\n",
       "      <td>4</td>\n",
       "      <td>0.044615</td>\n",
       "      <td>0.328644</td>\n",
       "    </tr>\n",
       "  </tbody>\n",
       "</table>\n",
       "</div>"
      ],
      "text/plain": [
       "   Ligne 1  Ligne 2  Distance Euclidienne^2  Distance Khi^2\n",
       "0        0        1                0.325128        0.977542\n",
       "1        0        2                9.877451       29.427852\n",
       "2        0        3                0.112901        0.366027\n",
       "3        0        4                0.275394        1.339827\n",
       "4        1        2                1.835572        5.465418\n",
       "5        1        3                0.017960        0.051217\n",
       "6        1        4                0.042919        0.225065\n",
       "7        2        3                0.218163        0.644787\n",
       "8        2        4                0.209800        0.611789\n",
       "9        3        4                0.044615        0.328644"
      ]
     },
     "execution_count": 150,
     "metadata": {},
     "output_type": "execute_result"
    }
   ],
   "source": [
    "import numpy as np\n",
    "\n",
    "# Fonction pour calculer la distance entre deux profils lignes\n",
    "def calc_distance(row1, row2, col_means):\n",
    "    \"\"\"\n",
    "    row1, row2 : Profils des lignes\n",
    "    col_means : Moyennes des colonnes pour le calcul du Khi carré\n",
    "    \"\"\"\n",
    "    # Distance Euclidienne classique\n",
    "    d_squared = np.sum(((row1 - row2) / row1.sum(axis=0)) ** 2)\n",
    "    \n",
    "    # Distance du Khi-deux\n",
    "    d_khi_squared = np.sum((1 / col_means) * (((row1 - row2) / row1.sum()) ** 2))\n",
    "    \n",
    "    return d_squared, d_khi_squared\n",
    "\n",
    "# Calculons toutes les distances entre les lignes du tableau des fréquences\n",
    "distances = []\n",
    "\n",
    "for i in range(len(F)):\n",
    "    for j in range(i + 1, len(F)):\n",
    "        d_sq, d_khi_sq = calc_distance(\n",
    "            F.iloc[i],\n",
    "            F.iloc[j],\n",
    "            F.sum(axis=0)\n",
    "        )\n",
    "        distances.append({\n",
    "            \"Ligne 1\": i,\n",
    "            \"Ligne 2\": j,\n",
    "            \"Distance Euclidienne^2\": d_sq,\n",
    "            \"Distance Khi^2\": d_khi_sq\n",
    "        })\n",
    "\n",
    "# Convertir les résultats en DataFrame pour afficher\n",
    "distances_df = pd.DataFrame(distances)\n",
    "distances_df"
   ]
  },
  {
   "cell_type": "code",
   "execution_count": 71,
   "metadata": {},
   "outputs": [
    {
     "data": {
      "text/html": [
       "<div>\n",
       "<style scoped>\n",
       "    .dataframe tbody tr th:only-of-type {\n",
       "        vertical-align: middle;\n",
       "    }\n",
       "\n",
       "    .dataframe tbody tr th {\n",
       "        vertical-align: top;\n",
       "    }\n",
       "\n",
       "    .dataframe thead th {\n",
       "        text-align: right;\n",
       "    }\n",
       "</style>\n",
       "<table border=\"1\" class=\"dataframe\">\n",
       "  <thead>\n",
       "    <tr style=\"text-align: right;\">\n",
       "      <th></th>\n",
       "      <th>Paire de Lignes</th>\n",
       "      <th>Distance Euclidienne^2</th>\n",
       "      <th>Distance Khi^2</th>\n",
       "    </tr>\n",
       "  </thead>\n",
       "  <tbody>\n",
       "    <tr>\n",
       "      <th>0</th>\n",
       "      <td>Cadre-Ouvrier</td>\n",
       "      <td>0.209800</td>\n",
       "      <td>0.611789</td>\n",
       "    </tr>\n",
       "    <tr>\n",
       "      <th>1</th>\n",
       "      <td>Cadre-Patron</td>\n",
       "      <td>0.182214</td>\n",
       "      <td>0.542542</td>\n",
       "    </tr>\n",
       "  </tbody>\n",
       "</table>\n",
       "</div>"
      ],
      "text/plain": [
       "  Paire de Lignes  Distance Euclidienne^2  Distance Khi^2\n",
       "0   Cadre-Ouvrier                0.209800        0.611789\n",
       "1    Cadre-Patron                0.182214        0.542542"
      ]
     },
     "execution_count": 71,
     "metadata": {},
     "output_type": "execute_result"
    }
   ],
   "source": [
    "# Calcul spécifique pour les distances entre CadreSup (ligne 2), Ouvrier (ligne 4), et Patron (ligne 1)\n",
    "\n",
    "# Index des lignes dans le tableau des fréquences\n",
    "cadre_index = 2\n",
    "ouvrier_index = 4\n",
    "patron_index = 1\n",
    "\n",
    "# Calcul des distances\n",
    "cadre_ouvrier_euclid, cadre_ouvrier_khi = calc_distance(\n",
    "    F.iloc[cadre_index],\n",
    "    F.iloc[ouvrier_index],\n",
    "    F.sum(axis=0)\n",
    ")\n",
    "\n",
    "cadre_patron_euclid, cadre_patron_khi = calc_distance(\n",
    "    F.iloc[cadre_index],\n",
    "    F.iloc[patron_index],\n",
    "    F.sum(axis=0)\n",
    ")\n",
    "\n",
    "# Résultats\n",
    "distances_specific = pd.DataFrame({\n",
    "    \"Paire de Lignes\": [\"Cadre-Ouvrier\", \"Cadre-Patron\"],\n",
    "    \"Distance Euclidienne^2\": [cadre_ouvrier_euclid, cadre_patron_euclid],\n",
    "    \"Distance Khi^2\": [cadre_ouvrier_khi, cadre_patron_khi]\n",
    "})\n",
    "\n",
    "distances_specific"
   ]
  },
  {
   "cell_type": "markdown",
   "metadata": {},
   "source": [
    "### Distance CadreSup-Ouvrier"
   ]
  },
  {
   "cell_type": "code",
   "execution_count": 157,
   "metadata": {},
   "outputs": [
    {
     "data": {
      "text/html": [
       "<div>\n",
       "<style scoped>\n",
       "    .dataframe tbody tr th:only-of-type {\n",
       "        vertical-align: middle;\n",
       "    }\n",
       "\n",
       "    .dataframe tbody tr th {\n",
       "        vertical-align: top;\n",
       "    }\n",
       "\n",
       "    .dataframe thead th {\n",
       "        text-align: right;\n",
       "    }\n",
       "</style>\n",
       "<table border=\"1\" class=\"dataframe\">\n",
       "  <thead>\n",
       "    <tr style=\"text-align: right;\">\n",
       "      <th></th>\n",
       "      <th>row1</th>\n",
       "      <th>row2</th>\n",
       "      <th>distance</th>\n",
       "    </tr>\n",
       "  </thead>\n",
       "  <tbody>\n",
       "    <tr>\n",
       "      <th>0</th>\n",
       "      <td>0</td>\n",
       "      <td>1</td>\n",
       "      <td>0.162117</td>\n",
       "    </tr>\n",
       "    <tr>\n",
       "      <th>1</th>\n",
       "      <td>0</td>\n",
       "      <td>2</td>\n",
       "      <td>0.453847</td>\n",
       "    </tr>\n",
       "    <tr>\n",
       "      <th>2</th>\n",
       "      <td>0</td>\n",
       "      <td>3</td>\n",
       "      <td>0.087400</td>\n",
       "    </tr>\n",
       "    <tr>\n",
       "      <th>3</th>\n",
       "      <td>0</td>\n",
       "      <td>4</td>\n",
       "      <td>0.004172</td>\n",
       "    </tr>\n",
       "    <tr>\n",
       "      <th>4</th>\n",
       "      <td>1</td>\n",
       "      <td>2</td>\n",
       "      <td>0.084611</td>\n",
       "    </tr>\n",
       "    <tr>\n",
       "      <th>5</th>\n",
       "      <td>1</td>\n",
       "      <td>3</td>\n",
       "      <td>0.024514</td>\n",
       "    </tr>\n",
       "    <tr>\n",
       "      <th>6</th>\n",
       "      <td>1</td>\n",
       "      <td>4</td>\n",
       "      <td>0.191823</td>\n",
       "    </tr>\n",
       "    <tr>\n",
       "      <th>7</th>\n",
       "      <td>2</td>\n",
       "      <td>3</td>\n",
       "      <td>0.176847</td>\n",
       "    </tr>\n",
       "    <tr>\n",
       "      <th>8</th>\n",
       "      <td>2</td>\n",
       "      <td>4</td>\n",
       "      <td>0.510901</td>\n",
       "    </tr>\n",
       "    <tr>\n",
       "      <th>9</th>\n",
       "      <td>3</td>\n",
       "      <td>4</td>\n",
       "      <td>0.115413</td>\n",
       "    </tr>\n",
       "  </tbody>\n",
       "</table>\n",
       "</div>"
      ],
      "text/plain": [
       "   row1  row2  distance\n",
       "0     0     1  0.162117\n",
       "1     0     2  0.453847\n",
       "2     0     3  0.087400\n",
       "3     0     4  0.004172\n",
       "4     1     2  0.084611\n",
       "5     1     3  0.024514\n",
       "6     1     4  0.191823\n",
       "7     2     3  0.176847\n",
       "8     2     4  0.510901\n",
       "9     3     4  0.115413"
      ]
     },
     "execution_count": 157,
     "metadata": {},
     "output_type": "execute_result"
    }
   ],
   "source": [
    "distances = []\n",
    "colon = col_totals.to_list()\n",
    "for i in range(len(col_profil)):\n",
    "    for j in range(i+1, len(col_profil)):\n",
    "        d = np.sum((row_profil.iloc[i] - row_profil.iloc[j])**2 / colon)\n",
    "        distances.append({\n",
    "            'row1': i,\n",
    "            'row2': j,\n",
    "            'distance': d\n",
    "        })\n",
    "\n",
    "distances_df = pd.DataFrame(distances)\n",
    "distances_df\n",
    "#np.sum((row_profil.iloc[2] - row_profil.iloc[4])**2 / colon)"
   ]
  },
  {
   "cell_type": "markdown",
   "metadata": {},
   "source": [
    "### Distance CadreSup-Patron"
   ]
  },
  {
   "cell_type": "code",
   "execution_count": 147,
   "metadata": {},
   "outputs": [
    {
     "data": {
      "text/plain": [
       "0.08461088232967058"
      ]
     },
     "execution_count": 147,
     "metadata": {},
     "output_type": "execute_result"
    }
   ],
   "source": [
    "np.sum((row_profil.iloc[1] - row_profil.iloc[2])**2 / colon)"
   ]
  },
  {
   "cell_type": "code",
   "execution_count": 130,
   "metadata": {},
   "outputs": [
    {
     "data": {
      "text/plain": [
       "0.14230671782941506"
      ]
     },
     "execution_count": 130,
     "metadata": {},
     "output_type": "execute_result"
    }
   ],
   "source": [
    "X = F.iloc[2] - F.iloc[4]\n",
    "X.T@np.linalg.inv(Dp)@X"
   ]
  },
  {
   "cell_type": "code",
   "execution_count": 118,
   "metadata": {},
   "outputs": [
    {
     "data": {
      "text/html": [
       "<div>\n",
       "<style scoped>\n",
       "    .dataframe tbody tr th:only-of-type {\n",
       "        vertical-align: middle;\n",
       "    }\n",
       "\n",
       "    .dataframe tbody tr th {\n",
       "        vertical-align: top;\n",
       "    }\n",
       "\n",
       "    .dataframe thead th {\n",
       "        text-align: right;\n",
       "    }\n",
       "</style>\n",
       "<table border=\"1\" class=\"dataframe\">\n",
       "  <thead>\n",
       "    <tr style=\"text-align: right;\">\n",
       "      <th></th>\n",
       "      <th>Droit_freq</th>\n",
       "      <th>Sciences_freq</th>\n",
       "      <th>Medecine_freq</th>\n",
       "      <th>IUT_freq</th>\n",
       "    </tr>\n",
       "    <tr>\n",
       "      <th>CSP_vs_Filiere</th>\n",
       "      <th></th>\n",
       "      <th></th>\n",
       "      <th></th>\n",
       "      <th></th>\n",
       "    </tr>\n",
       "  </thead>\n",
       "  <tbody>\n",
       "    <tr>\n",
       "      <th>ExpAgri</th>\n",
       "      <td>0.021142</td>\n",
       "      <td>0.026163</td>\n",
       "      <td>0.017178</td>\n",
       "      <td>0.015328</td>\n",
       "    </tr>\n",
       "    <tr>\n",
       "      <th>Patron</th>\n",
       "      <td>0.044397</td>\n",
       "      <td>0.036205</td>\n",
       "      <td>0.054968</td>\n",
       "      <td>0.016385</td>\n",
       "    </tr>\n",
       "    <tr>\n",
       "      <th>CadreSup</th>\n",
       "      <td>0.124207</td>\n",
       "      <td>0.105708</td>\n",
       "      <td>0.231501</td>\n",
       "      <td>0.020877</td>\n",
       "    </tr>\n",
       "    <tr>\n",
       "      <th>Employe</th>\n",
       "      <td>0.038319</td>\n",
       "      <td>0.035148</td>\n",
       "      <td>0.035677</td>\n",
       "      <td>0.014271</td>\n",
       "    </tr>\n",
       "    <tr>\n",
       "      <th>Ouvrier</th>\n",
       "      <td>0.043869</td>\n",
       "      <td>0.051004</td>\n",
       "      <td>0.033562</td>\n",
       "      <td>0.034091</td>\n",
       "    </tr>\n",
       "  </tbody>\n",
       "</table>\n",
       "</div>"
      ],
      "text/plain": [
       "                Droit_freq  Sciences_freq  Medecine_freq  IUT_freq\n",
       "CSP_vs_Filiere                                                    \n",
       "ExpAgri           0.021142       0.026163       0.017178  0.015328\n",
       "Patron            0.044397       0.036205       0.054968  0.016385\n",
       "CadreSup          0.124207       0.105708       0.231501  0.020877\n",
       "Employe           0.038319       0.035148       0.035677  0.014271\n",
       "Ouvrier           0.043869       0.051004       0.033562  0.034091"
      ]
     },
     "execution_count": 118,
     "metadata": {},
     "output_type": "execute_result"
    }
   ],
   "source": [
    "F"
   ]
  },
  {
   "cell_type": "code",
   "execution_count": 146,
   "metadata": {},
   "outputs": [
    {
     "data": {
      "text/plain": [
       "Droit_freq       0.271934\n",
       "Sciences_freq    0.254228\n",
       "Medecine_freq    0.372886\n",
       "IUT_freq         0.100951\n",
       "dtype: float64"
      ]
     },
     "execution_count": 146,
     "metadata": {},
     "output_type": "execute_result"
    }
   ],
   "source": [
    "col_totals"
   ]
  },
  {
   "cell_type": "code",
   "execution_count": 131,
   "metadata": {},
   "outputs": [
    {
     "data": {
      "text/html": [
       "<div>\n",
       "<style scoped>\n",
       "    .dataframe tbody tr th:only-of-type {\n",
       "        vertical-align: middle;\n",
       "    }\n",
       "\n",
       "    .dataframe tbody tr th {\n",
       "        vertical-align: top;\n",
       "    }\n",
       "\n",
       "    .dataframe thead th {\n",
       "        text-align: right;\n",
       "    }\n",
       "</style>\n",
       "<table border=\"1\" class=\"dataframe\">\n",
       "  <thead>\n",
       "    <tr style=\"text-align: right;\">\n",
       "      <th></th>\n",
       "      <th>Droit_freq</th>\n",
       "      <th>Sciences_freq</th>\n",
       "      <th>Medecine_freq</th>\n",
       "      <th>IUT_freq</th>\n",
       "    </tr>\n",
       "    <tr>\n",
       "      <th>CSP_vs_Filiere</th>\n",
       "      <th></th>\n",
       "      <th></th>\n",
       "      <th></th>\n",
       "      <th></th>\n",
       "    </tr>\n",
       "  </thead>\n",
       "  <tbody>\n",
       "    <tr>\n",
       "      <th>ExpAgri</th>\n",
       "      <td>0.264901</td>\n",
       "      <td>0.327815</td>\n",
       "      <td>0.215232</td>\n",
       "      <td>0.192053</td>\n",
       "    </tr>\n",
       "    <tr>\n",
       "      <th>Patron</th>\n",
       "      <td>0.292174</td>\n",
       "      <td>0.238261</td>\n",
       "      <td>0.361739</td>\n",
       "      <td>0.107826</td>\n",
       "    </tr>\n",
       "    <tr>\n",
       "      <th>CadreSup</th>\n",
       "      <td>0.257534</td>\n",
       "      <td>0.219178</td>\n",
       "      <td>0.480000</td>\n",
       "      <td>0.043288</td>\n",
       "    </tr>\n",
       "    <tr>\n",
       "      <th>Employe</th>\n",
       "      <td>0.310493</td>\n",
       "      <td>0.284797</td>\n",
       "      <td>0.289079</td>\n",
       "      <td>0.115632</td>\n",
       "    </tr>\n",
       "    <tr>\n",
       "      <th>Ouvrier</th>\n",
       "      <td>0.269919</td>\n",
       "      <td>0.313821</td>\n",
       "      <td>0.206504</td>\n",
       "      <td>0.209756</td>\n",
       "    </tr>\n",
       "  </tbody>\n",
       "</table>\n",
       "</div>"
      ],
      "text/plain": [
       "                Droit_freq  Sciences_freq  Medecine_freq  IUT_freq\n",
       "CSP_vs_Filiere                                                    \n",
       "ExpAgri           0.264901       0.327815       0.215232  0.192053\n",
       "Patron            0.292174       0.238261       0.361739  0.107826\n",
       "CadreSup          0.257534       0.219178       0.480000  0.043288\n",
       "Employe           0.310493       0.284797       0.289079  0.115632\n",
       "Ouvrier           0.269919       0.313821       0.206504  0.209756"
      ]
     },
     "execution_count": 131,
     "metadata": {},
     "output_type": "execute_result"
    }
   ],
   "source": [
    "row_profil"
   ]
  },
  {
   "cell_type": "code",
   "execution_count": null,
   "metadata": {},
   "outputs": [],
   "source": []
  },
  {
   "cell_type": "code",
   "execution_count": null,
   "metadata": {},
   "outputs": [
    {
     "data": {
      "text/plain": [
       "0.5109007867776723"
      ]
     },
     "execution_count": 144,
     "metadata": {},
     "output_type": "execute_result"
    }
   ],
   "source": []
  },
  {
   "cell_type": "code",
   "execution_count": 135,
   "metadata": {},
   "outputs": [
    {
     "data": {
      "text/html": [
       "<div>\n",
       "<style scoped>\n",
       "    .dataframe tbody tr th:only-of-type {\n",
       "        vertical-align: middle;\n",
       "    }\n",
       "\n",
       "    .dataframe tbody tr th {\n",
       "        vertical-align: top;\n",
       "    }\n",
       "\n",
       "    .dataframe thead th {\n",
       "        text-align: right;\n",
       "    }\n",
       "</style>\n",
       "<table border=\"1\" class=\"dataframe\">\n",
       "  <thead>\n",
       "    <tr style=\"text-align: right;\">\n",
       "      <th></th>\n",
       "      <th>Droit_freq</th>\n",
       "      <th>Sciences_freq</th>\n",
       "      <th>Medecine_freq</th>\n",
       "      <th>IUT_freq</th>\n",
       "    </tr>\n",
       "    <tr>\n",
       "      <th>CSP_vs_Filiere</th>\n",
       "      <th></th>\n",
       "      <th></th>\n",
       "      <th></th>\n",
       "      <th></th>\n",
       "    </tr>\n",
       "  </thead>\n",
       "  <tbody>\n",
       "    <tr>\n",
       "      <th>ExpAgri</th>\n",
       "      <td>0.264901</td>\n",
       "      <td>0.327815</td>\n",
       "      <td>0.215232</td>\n",
       "      <td>0.192053</td>\n",
       "    </tr>\n",
       "    <tr>\n",
       "      <th>Patron</th>\n",
       "      <td>0.292174</td>\n",
       "      <td>0.238261</td>\n",
       "      <td>0.361739</td>\n",
       "      <td>0.107826</td>\n",
       "    </tr>\n",
       "    <tr>\n",
       "      <th>CadreSup</th>\n",
       "      <td>0.257534</td>\n",
       "      <td>0.219178</td>\n",
       "      <td>0.480000</td>\n",
       "      <td>0.043288</td>\n",
       "    </tr>\n",
       "    <tr>\n",
       "      <th>Employe</th>\n",
       "      <td>0.310493</td>\n",
       "      <td>0.284797</td>\n",
       "      <td>0.289079</td>\n",
       "      <td>0.115632</td>\n",
       "    </tr>\n",
       "    <tr>\n",
       "      <th>Ouvrier</th>\n",
       "      <td>0.269919</td>\n",
       "      <td>0.313821</td>\n",
       "      <td>0.206504</td>\n",
       "      <td>0.209756</td>\n",
       "    </tr>\n",
       "  </tbody>\n",
       "</table>\n",
       "</div>"
      ],
      "text/plain": [
       "                Droit_freq  Sciences_freq  Medecine_freq  IUT_freq\n",
       "CSP_vs_Filiere                                                    \n",
       "ExpAgri           0.264901       0.327815       0.215232  0.192053\n",
       "Patron            0.292174       0.238261       0.361739  0.107826\n",
       "CadreSup          0.257534       0.219178       0.480000  0.043288\n",
       "Employe           0.310493       0.284797       0.289079  0.115632\n",
       "Ouvrier           0.269919       0.313821       0.206504  0.209756"
      ]
     },
     "execution_count": 135,
     "metadata": {},
     "output_type": "execute_result"
    }
   ],
   "source": [
    "row_profil"
   ]
  },
  {
   "cell_type": "code",
   "execution_count": null,
   "metadata": {},
   "outputs": [],
   "source": []
  },
  {
   "cell_type": "code",
   "execution_count": null,
   "metadata": {},
   "outputs": [],
   "source": [
    "1/ 0.271934 *(0.257534 - 0.269919)   0.254228"
   ]
  },
  {
   "cell_type": "markdown",
   "metadata": {},
   "source": [
    "**Interprétaions**\n",
    "\n",
    "La structure de choix de filière des enfant cadre est plus proche (similaire) du choix de formation des enfants patron qu ne l'est celle des enfants ouvriers."
   ]
  },
  {
   "cell_type": "markdown",
   "metadata": {},
   "source": [
    "### IV. Indépendance"
   ]
  },
  {
   "cell_type": "code",
   "execution_count": 72,
   "metadata": {},
   "outputs": [
    {
     "name": "stderr",
     "output_type": "stream",
     "text": [
      "C:\\Users\\bakho\\AppData\\Local\\Temp\\ipykernel_39468\\3772761268.py:10: FutureWarning: Series.__getitem__ treating keys as positions is deprecated. In a future version, integer keys will always be treated as labels (consistent with DataFrame behavior). To access a value by position, use `ser.iloc[pos]`\n",
      "  Eij = (row_sums[i] * col_sums[j]) / total_sum\n"
     ]
    },
    {
     "data": {
      "text/plain": [
       "0.08463685828547156"
      ]
     },
     "execution_count": 72,
     "metadata": {},
     "output_type": "execute_result"
    }
   ],
   "source": [
    "# Calculs des marges et du total\n",
    "row_sums = F.sum(axis=1)  # k_{i,.} : Somme des lignes\n",
    "col_sums = F.sum(axis=0)  # k_{.,j} : Somme des colonnes\n",
    "total_sum = F.values.sum()  # k_{..} : Somme totale\n",
    "\n",
    "Z = 0\n",
    "\n",
    "for i in range(len(row_sums)):\n",
    "    for j in range(len(col_sums)):\n",
    "        Eij = (row_sums[i] * col_sums[j]) / total_sum\n",
    "        Z += ((F.iloc[i, j] - Eij) ** 2) / Eij\n",
    "Z"
   ]
  },
  {
   "cell_type": "code",
   "execution_count": 73,
   "metadata": {},
   "outputs": [
    {
     "ename": "ValueError",
     "evalue": "matrices are not aligned",
     "output_type": "error",
     "traceback": [
      "\u001b[1;31m---------------------------------------------------------------------------\u001b[0m",
      "\u001b[1;31mValueError\u001b[0m                                Traceback (most recent call last)",
      "Cell \u001b[1;32mIn[73], line 1\u001b[0m\n\u001b[1;32m----> 1\u001b[0m S \u001b[38;5;241m=\u001b[39m \u001b[43mF\u001b[49m\u001b[38;5;241;43m.\u001b[39;49m\u001b[43mT\u001b[49m\u001b[38;5;129;43m@row_sums\u001b[39;49m\u001b[38;5;129;43m@F\u001b[39;49m\u001b[38;5;129m@col_sums\u001b[39m\n",
      "File \u001b[1;32mc:\\Users\\bakho\\anaconda3\\Lib\\site-packages\\pandas\\core\\series.py:3252\u001b[0m, in \u001b[0;36mSeries.__matmul__\u001b[1;34m(self, other)\u001b[0m\n\u001b[0;32m   3248\u001b[0m \u001b[38;5;28;01mdef\u001b[39;00m \u001b[38;5;21m__matmul__\u001b[39m(\u001b[38;5;28mself\u001b[39m, other):\n\u001b[0;32m   3249\u001b[0m \u001b[38;5;250m    \u001b[39m\u001b[38;5;124;03m\"\"\"\u001b[39;00m\n\u001b[0;32m   3250\u001b[0m \u001b[38;5;124;03m    Matrix multiplication using binary `@` operator.\u001b[39;00m\n\u001b[0;32m   3251\u001b[0m \u001b[38;5;124;03m    \"\"\"\u001b[39;00m\n\u001b[1;32m-> 3252\u001b[0m     \u001b[38;5;28;01mreturn\u001b[39;00m \u001b[38;5;28;43mself\u001b[39;49m\u001b[38;5;241;43m.\u001b[39;49m\u001b[43mdot\u001b[49m\u001b[43m(\u001b[49m\u001b[43mother\u001b[49m\u001b[43m)\u001b[49m\n",
      "File \u001b[1;32mc:\\Users\\bakho\\anaconda3\\Lib\\site-packages\\pandas\\core\\series.py:3223\u001b[0m, in \u001b[0;36mSeries.dot\u001b[1;34m(self, other)\u001b[0m\n\u001b[0;32m   3221\u001b[0m common \u001b[38;5;241m=\u001b[39m \u001b[38;5;28mself\u001b[39m\u001b[38;5;241m.\u001b[39mindex\u001b[38;5;241m.\u001b[39munion(other\u001b[38;5;241m.\u001b[39mindex)\n\u001b[0;32m   3222\u001b[0m \u001b[38;5;28;01mif\u001b[39;00m \u001b[38;5;28mlen\u001b[39m(common) \u001b[38;5;241m>\u001b[39m \u001b[38;5;28mlen\u001b[39m(\u001b[38;5;28mself\u001b[39m\u001b[38;5;241m.\u001b[39mindex) \u001b[38;5;129;01mor\u001b[39;00m \u001b[38;5;28mlen\u001b[39m(common) \u001b[38;5;241m>\u001b[39m \u001b[38;5;28mlen\u001b[39m(other\u001b[38;5;241m.\u001b[39mindex):\n\u001b[1;32m-> 3223\u001b[0m     \u001b[38;5;28;01mraise\u001b[39;00m \u001b[38;5;167;01mValueError\u001b[39;00m(\u001b[38;5;124m\"\u001b[39m\u001b[38;5;124mmatrices are not aligned\u001b[39m\u001b[38;5;124m\"\u001b[39m)\n\u001b[0;32m   3225\u001b[0m left \u001b[38;5;241m=\u001b[39m \u001b[38;5;28mself\u001b[39m\u001b[38;5;241m.\u001b[39mreindex(index\u001b[38;5;241m=\u001b[39mcommon, copy\u001b[38;5;241m=\u001b[39m\u001b[38;5;28;01mFalse\u001b[39;00m)\n\u001b[0;32m   3226\u001b[0m right \u001b[38;5;241m=\u001b[39m other\u001b[38;5;241m.\u001b[39mreindex(index\u001b[38;5;241m=\u001b[39mcommon, copy\u001b[38;5;241m=\u001b[39m\u001b[38;5;28;01mFalse\u001b[39;00m)\n",
      "\u001b[1;31mValueError\u001b[0m: matrices are not aligned"
     ]
    }
   ],
   "source": [
    "S = F.T@row_sums@F@col_sums"
   ]
  },
  {
   "cell_type": "code",
   "execution_count": null,
   "metadata": {},
   "outputs": [],
   "source": []
  }
 ],
 "metadata": {
  "kernelspec": {
   "display_name": "base",
   "language": "python",
   "name": "python3"
  },
  "language_info": {
   "codemirror_mode": {
    "name": "ipython",
    "version": 3
   },
   "file_extension": ".py",
   "mimetype": "text/x-python",
   "name": "python",
   "nbconvert_exporter": "python",
   "pygments_lexer": "ipython3",
   "version": "3.12.4"
  }
 },
 "nbformat": 4,
 "nbformat_minor": 2
}
